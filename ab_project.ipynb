{
 "cells": [
  {
   "cell_type": "markdown",
   "id": "e6798f1c",
   "metadata": {},
   "source": [
    "# подготовка данных и проверка на выбросы"
   ]
  },
  {
   "cell_type": "code",
   "execution_count": 171,
   "id": "0d999ab5",
   "metadata": {
    "scrolled": true
   },
   "outputs": [],
   "source": [
    "import pandas as pd\n",
    "import scipy\n",
    "import numpy as np\n",
    "import matplotlib.pyplot as plt\n",
    "import seaborn as sns\n",
    "\n",
    "# изначально данные это train и test но я их склеил\n",
    "pd.set_option('display.max_columns',None)\n",
    "\n",
    "train_path='C:\\\\Users\\\\gimaevra94\\\\Documents\\\\local\\\\ab_project\\\\train.csv'\n",
    "test_path='C:\\\\Users\\\\gimaevra94\\\\Documents\\\\local\\\\ab_project\\\\test.csv'\n",
    "\n",
    "train=pd.read_csv(train_path)\n",
    "test=pd.read_csv(test_path)\n",
    "\n",
    "data=pd.concat([train,test],axis=0)\n",
    "\n",
    "data.rename(columns={'Conversion (Target)':'conversion'},inplace=True)\n",
    "data.rename(columns={'SocialMediaEngagement':'sme'},inplace=True)"
   ]
  },
  {
   "cell_type": "code",
   "execution_count": 172,
   "id": "c27aba8d",
   "metadata": {
    "scrolled": true
   },
   "outputs": [
    {
     "data": {
      "image/png": "[encoded data removed]",
      "text/plain": [
       "<Figure size 1500x400 with 3 Axes>"
      ]
     },
     "metadata": {},
     "output_type": "display_data"
    }
   ],
   "source": [
    "# выборка для проверки выбросов\n",
    "sme=data[['sme']]\n",
    "\n",
    "# проверка выбросов с помощью межквартильного размаха\n",
    "q1=sme.quantile(.25)\n",
    "q3=sme.quantile(.75)\n",
    "iqr = q3 - q1\n",
    "\n",
    "low=q1-1.5*iqr\n",
    "hight=q3+1.5*iqr\n",
    "iqr=sme[~((sme<low)|(sme>hight)).any(axis=1)]\n",
    "\n",
    "# проверка выбросов с помощью z значения\n",
    "z=np.abs(scipy.stats.zscore(sme))\n",
    "z_score=sme[(z<3).all(axis=1)]\n",
    "\n",
    "# вообще никакой разницы по этому оставим данные как есть\n",
    "fig, axs = plt.subplots(1, 3, figsize=(15, 4))\n",
    "\n",
    "axs[0].hist(sme)\n",
    "axs[0].set_title('before/defolt')\n",
    "\n",
    "axs[1].hist(iqr)\n",
    "axs[1].set_title('after iqr')\n",
    "\n",
    "axs[2].hist(z_score)\n",
    "axs[2].set_title('after z score')\n",
    "\n",
    "plt.show()"
   ]
  },
  {
   "cell_type": "code",
   "execution_count": 173,
   "id": "6365b583",
   "metadata": {},
   "outputs": [],
   "source": [
    "# делю данные на две группы по 50 квантилю фичи отвечающей за степень активности в социальных сетях\n",
    "quantile_50=np.quantile(data.sme,.5)\n",
    "\n",
    "low_sme=data[data['sme']<=quantile_50]\n",
    "hight_sme=data[data['sme']>quantile_50]\n",
    "\n",
    "# размер выборки\n",
    "z=1.96 # взял из таблицы z значений\n",
    "p=data.conversion.value_counts()[1]/len(data)\n",
    "e=np.sqrt(p*(1-p)/len(data))*z # взял из какого то ресурса где приводятся формулы для расчета выборки\n",
    "n=z**2*p*(1-p)/e**2\n",
    "\n",
    "# из данных разделенных на 2 группы по 50 квантилю семплирую столько данных сколько посчитала формула\n",
    "a=low_sme.sample(int(n),replace=True)\n",
    "b=hight_sme.sample(int(n),replace=True)\n",
    "\n",
    "# отсюда будут браться выборки при повторном отборе\n",
    "data=pd.concat([a,b],axis=0)"
   ]
  },
  {
   "cell_type": "markdown",
   "id": "ee49f3d7",
   "metadata": {},
   "source": [
    "# аб тест"
   ]
  },
  {
   "cell_type": "code",
   "execution_count": 174,
   "id": "b3f644a0",
   "metadata": {
    "scrolled": false
   },
   "outputs": [
    {
     "name": "stdout",
     "output_type": "stream",
     "text": [
      "p value перестановочный тест 0.336\n",
      "p value хи квадрат 0.351\n",
      "p value пуассон 0.346\n",
      "\n",
      "если p value ниже 0.05 уровня альфы то:\n",
      "предполагалось: sme<50 квантиля делают conversion меньше чем sme>50 квантиля - True\n",
      "оказалось: sme<50 квантиля делают conversion меньше чем sme>50 квантиля - False\n"
     ]
    }
   ],
   "source": [
    "# нулевая гипотеза: статистической значимости не наблюдается\n",
    "# направленная левосторонняя гипотеза: sme<50 квантиля делают conversion больше чем sme>50 квантиля\n",
    "# направленная правосторонняя гипотеза: sme<50 квантиля делают conversion меньше чем sme>50 квантиля\n",
    "\n",
    "# беру общее количество конверсий из переменной \n",
    "# в которой склеены две выборки семплированные из изначальных выборок \n",
    "# разделенных по 50 квантилю \n",
    "# отсюда будут браться выборки при повторном отборе\n",
    "general_convs=data[['conversion']].reset_index()\n",
    "general_convs.drop(columns=['index'],inplace=True)\n",
    "\n",
    "# сразу посчитанная разница между двумя выборками. нужно для повторного отбора\n",
    "a_b_diffs=list()\n",
    "\n",
    "# две выборки отдельно. нужно для проверки правосторонней гипотезы\n",
    "a_diffs=list()\n",
    "b_diffs=list()\n",
    "\n",
    "for _ in range(1000):\n",
    "    # перемешиваю\n",
    "    general=general_convs.sample(252290)\n",
    "    \n",
    "    # беру выборки а и б\n",
    "    var_a=100 * general.iloc[:126145].mean()\n",
    "    var_b=100 * general.iloc[126145:].mean()\n",
    "    \n",
    "    # считаю разницы\n",
    "    a_b_diffs.append(var_b - var_a)\n",
    "    \n",
    "    # записываю доли для проверки правосторонней гипотезы\n",
    "    a_diffs.append(var_a)\n",
    "    b_diffs.append(var_b)\n",
    "    \n",
    "# избавляюсь от указаний типа данных\n",
    "a_b_diffs=[a_b_diffs[i][0] for i,_ in enumerate(a_b_diffs)]\n",
    "a_diffs=[a_diffs[i][0] for i,_ in enumerate(a_diffs)]\n",
    "b_diffs=[b_diffs[i][0] for i,_ in enumerate(b_diffs)]\n",
    "\n",
    "# изначальная разница\n",
    "initial_diff=np.abs(100*(a.conversion.mean() - b.conversion.mean()))\n",
    "\n",
    "# доля раз когда семплированные разницы больше наблюдаемой\n",
    "# так называемое р значение\n",
    "print('p value перестановочный тест',np.mean([diff > initial_diff for diff in a_b_diffs]) )\n",
    "\n",
    "# беру размеры выборок и количество конверсий в каждой выборке для стат.тестов\n",
    "a_len=a.conversion.value_counts()[0]\n",
    "a_convs=a.conversion.value_counts()[1]\n",
    "\n",
    "b_len=b.conversion.value_counts()[0]\n",
    "b_convs=b.conversion.value_counts()[1]\n",
    "\n",
    "# статистические тесты для проверки корректности реазилации перестановочного теста\n",
    "survivors = np.array([[a_convs, a_len - a_convs], [b_convs, b_len - b_convs]])\n",
    "chi2, p_value, df, _ = scipy.stats.chi2_contingency(survivors)\n",
    "print(f'p value хи квадрат {p_value / 2:.3f}')\n",
    "\n",
    "_,pvalue=scipy.stats.poisson_means_test(a_convs,a_len,b_convs,b_len)\n",
    "print(f'p value пуассон {pvalue / 2:.3f}')\n",
    "\n",
    "# сравнение долей двух групп после перестановочного теста\n",
    "initial_diff=a.conversion.mean()<b.conversion.mean()\n",
    "result_diff=np.mean(a_diffs)<np.mean(b_diffs)\n",
    "\n",
    "print()\n",
    "print('если p value ниже 0.05 уровня альфы то:')\n",
    "print('предполагалось: sme<50 квантиля делают conversion меньше чем sme>50 квантиля -',initial_diff)\n",
    "print('оказалось: sme<50 квантиля делают conversion меньше чем sme>50 квантиля -',result_diff)"
   ]
  },
  {
   "cell_type": "code",
   "execution_count": 175,
   "id": "cde8b4d6",
   "metadata": {
    "scrolled": false
   },
   "outputs": [
    {
     "name": "stdout",
     "output_type": "stream",
     "text": [
      "initial_diff (red) 0.020%\n",
      "result_diff (green) 0.004%\n",
      "diff between them 0.016%\n"
     ]
    },
    {
     "data": {
      "image/png": "[encoded data removed]",
      "text/plain": [
       "<Figure size 1000x500 with 1 Axes>"
      ]
     },
     "metadata": {},
     "output_type": "display_data"
    }
   ],
   "source": [
    "# для полноты картины взглянем как разницы выглядят на гистограмме\n",
    "initial_line=np.abs(100*(np.abs(a.conversion.mean()-b.conversion.mean())))\n",
    "result_line=np.abs(np.abs(np.mean(a_diffs)-np.mean(b_diffs)))\n",
    "\n",
    "plt.figure(figsize=(10,5))\n",
    "plt.hist(a_b_diffs)\n",
    "plt.axvline(initial_line, color='r')\n",
    "plt.axvline(result_line, color='g')\n",
    "\n",
    "print(f'initial_diff (red) {initial_line:.3f}%')\n",
    "print(f'result_diff (green) {result_line:.3f}%')\n",
    "print(f'diff between them {np.abs(round(initial_line-result_line,3))}%')"
   ]
  }
 ],
 "metadata": {
  "kernelspec": {
   "display_name": "Python 3 (ipykernel)",
   "language": "python",
   "name": "python3"
  },
  "language_info": {
   "codemirror_mode": {
    "name": "ipython",
    "version": 3
   },
   "file_extension": ".py",
   "mimetype": "text/x-python",
   "name": "python",
   "nbconvert_exporter": "python",
   "pygments_lexer": "ipython3",
   "version": "3.11.5"
  }
 },
 "nbformat": 4,
 "nbformat_minor": 5
}
